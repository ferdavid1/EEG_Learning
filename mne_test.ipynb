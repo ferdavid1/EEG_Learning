{
 "cells": [
  {
   "cell_type": "code",
   "execution_count": 1,
   "metadata": {
    "collapsed": false
   },
   "outputs": [],
   "source": [
    "%gui wx"
   ]
  },
  {
   "cell_type": "code",
   "execution_count": 2,
   "metadata": {
    "collapsed": false
   },
   "outputs": [
    {
     "name": "stdout",
     "output_type": "stream",
     "text": [
      "Opening raw data file C:\\Users\\fespinosa\\mne_data\\MNE-sample-data\\MEG\\sample\\sample_audvis_filt-0-40_raw.fif...\n",
      "    Read a total of 4 projection items:\n",
      "        PCA-v1 (1 x 102)  idle\n",
      "        PCA-v2 (1 x 102)  idle\n",
      "        PCA-v3 (1 x 102)  idle\n",
      "        Average EEG reference (1 x 60)  idle\n",
      "    Range : 6450 ... 48149 =     42.956 ...   320.665 secs\n",
      "Ready.\n",
      "Current compensation grade : 0\n",
      "Reading 0 ... 41699  =      0.000 ...   277.709 secs...\n",
      "Setting up low-pass filter at 40 Hz\n",
      "h_trans_bandwidth chosen to be 10.0 Hz\n",
      "Filter length of 99 samples (0.659 sec) selected\n",
      "319 events found\n",
      "Events id: [ 1  2  3  4  5 32]\n",
      "72 matching events found\n",
      "Created an SSP operator (subspace dimension = 4)\n",
      "4 projection items activated\n",
      "    Rejecting  epoch based on EOG : ['EOG 061']\n",
      "    Rejecting  epoch based on EOG : ['EOG 061']\n",
      "    Rejecting  epoch based on EOG : ['EOG 061']\n",
      "    Rejecting  epoch based on EOG : ['EOG 061']\n",
      "    Rejecting  epoch based on EOG : ['EOG 061']\n",
      "    Rejecting  epoch based on MAG : ['MEG 1711']\n",
      "    Rejecting  epoch based on EOG : ['EOG 061']\n",
      "    Rejecting  epoch based on EOG : ['EOG 061']\n",
      "    Rejecting  epoch based on EOG : ['EOG 061']\n",
      "    Rejecting  epoch based on EOG : ['EOG 061']\n",
      "    Rejecting  epoch based on EOG : ['EOG 061']\n",
      "    Rejecting  epoch based on EOG : ['EOG 061']\n",
      "    Rejecting  epoch based on EOG : ['EOG 061']\n",
      "    Rejecting  epoch based on EOG : ['EOG 061']\n",
      "    Rejecting  epoch based on EOG : ['EOG 061']\n",
      "    Rejecting  epoch based on EOG : ['EOG 061']\n",
      "    Rejecting  epoch based on EOG : ['EOG 061']\n"
     ]
    },
    {
     "data": {
      "text/plain": [
       "<matplotlib.figure.Figure at 0x6e4b959dd8>"
      ]
     },
     "execution_count": 2,
     "metadata": {},
     "output_type": "execute_result"
    }
   ],
   "source": [
    "# http://www.martinos.org/mne/stable/index.html\n",
    "# http://www.martinos.org/mne/stable/auto_examples/index.html\n",
    "# http://www.martinos.org/mne/stable/auto_examples/index.html#real-time-m-eeg-acquisition\n",
    "import os\n",
    "import mne\n",
    "from mne.minimum_norm import (make_inverse_operator, apply_inverse,\n",
    "                              write_inverse_operator)\n",
    "# accessing datasets\n",
    "from mne.datasets import sample\n",
    "data_path = sample.data_path()\n",
    "raw_fname = data_path + '\\MEG\\sample\\sample_audvis_filt-0-40_raw.fif'\n",
    "os.environ[\"SUBJECTS_DIR\"] = data_path + '/subjects'\n",
    "raw = mne.io.read_raw_fif(raw_fname, preload=True)\n",
    "raw.plot(duration=3, start=100)\n",
    "# plt.show()\n",
    "raw.filter(l_freq=None, h_freq=40.0) # low pass filter\n",
    "raw.info['bads'] = ['MEG 2443', 'EEG 053'] # mark bad channels if you know them\n",
    "picks = mne.pick_types(raw.info, meg=True, eeg=False, eog=True, exclude='bads')\n",
    "events = mne.find_events(raw, stim_channel='STI 014') # extract any event default is when values increase and epoch data\n",
    "epochs = mne.Epochs(raw, events, event_id=1, tmin=-0.2, tmax=0.5, baseline = (None, 0), reject=dict(grad=4000e-13, mag=4e-12, eog=150e-6))\n",
    "evoked = epochs.average() # compute evoked\n",
    "evoked.plot()\n",
    "evoked.plot_topomap(times=np.linspace(0.05, 0.15, 5), ch_type='mag')"
   ]
  },
  {
   "cell_type": "code",
   "execution_count": 4,
   "metadata": {
    "collapsed": false
   },
   "outputs": [
    {
     "name": "stdout",
     "output_type": "stream",
     "text": [
      "Loading data for 55 events and 106 original time points ...\n",
      "Too few samples (required : 1825 got : 1705), covariance estimate may be unreliable\n",
      "Estimating covariance using SHRUNK\n"
     ]
    },
    {
     "name": "stderr",
     "output_type": "stream",
     "text": [
      "<ipython-input-4-52e2de9927c8>:2: RuntimeWarning: Too few samples (required : 1825 got : 1705), covariance estimate may be unreliable\n",
      "  epochs, tmax=0., method=['shrunk', 'empirical'])\n"
     ]
    },
    {
     "name": "stdout",
     "output_type": "stream",
     "text": [
      "Done.\n",
      "Estimating covariance using EMPIRICAL\n",
      "Done.\n",
      "Using cross-validation to select the best estimator.\n",
      "Number of samples used : 1705\n",
      "[done]\n",
      "Number of samples used : 1705\n",
      "[done]\n",
      "log-likelihood on unseen data (descending order):\n",
      "   shrunk: -1602.457\n",
      "   empirical: -1904.043\n",
      "selecting best estimator: shrunk\n",
      "Reading forward solution from C:\\Users\\fespinosa\\mne_data\\MNE-sample-data/MEG/sample/sample_audvis-meg-oct-6-fwd.fif...\n",
      "    Reading a source space...\n",
      "    Computing patch statistics...\n",
      "    Patch information added...\n",
      "    Distance information added...\n",
      "    [done]\n",
      "    Reading a source space...\n",
      "    Computing patch statistics...\n",
      "    Patch information added...\n",
      "    Distance information added...\n",
      "    [done]\n",
      "    2 source spaces read\n",
      "    Desired named matrix (kind = 3523) not available\n",
      "    Read MEG forward solution (7498 sources, 306 channels, free orientations)\n",
      "    Source spaces transformed to the forward solution coordinate frame\n",
      "    Converting to surface-based source orientations...\n",
      "    Average patch normals will be employed in the rotation to the local surface coordinates....\n",
      "[done]\n",
      "    306 out of 306 channels remain after picking\n",
      "info[\"bads\"] and noise_cov[\"bads\"] do not match, excluding bad channels from both\n",
      "Computing inverse operator with 305 channels.\n",
      "    Created an SSP operator (subspace dimension = 3)\n",
      "estimated rank (mag + grad): 302\n",
      "Setting small MEG eigenvalues to zero.\n",
      "Not doing PCA for MEG.\n",
      "Total rank is 302\n",
      "Creating the depth weighting matrix...\n",
      "    203 planar channels\n",
      "    limit = 7265/7498 = 10.037795\n",
      "    scale = 2.52065e-08 exp = 0.8\n",
      "Computing inverse operator with 305 channels.\n",
      "Creating the source covariance matrix\n",
      "Applying loose dipole orientations. Loose value of 0.2.\n",
      "Whitening the forward solution.\n",
      "Adjusting source covariance matrix.\n",
      "Computing SVD of whitened and weighted lead field matrix.\n",
      "    largest singular value = 4.65251\n",
      "    scaling factor to adjust the trace = 1.03676e+19\n",
      "Write inverse operator decomposition in sample_audvis-meg-oct-6-inv.fif...\n",
      "    Write a source space...\n",
      "    [done]\n",
      "    Write a source space...\n",
      "    [done]\n",
      "    2 source spaces written\n",
      "    Writing inverse operator info...\n",
      "    Writing noise covariance matrix.\n",
      "    Writing source covariance matrix.\n",
      "    Writing orientation priors.\n",
      "    [done]\n",
      "Preparing the inverse operator for use...\n",
      "    Scaled noise and source covariance from nave = 1 to nave = 55\n",
      "    Created the regularized inverter\n",
      "    Created an SSP operator (subspace dimension = 3)\n",
      "    Created the whitener using a full noise covariance matrix (3 small eigenvalues omitted)\n",
      "    Computing noise-normalization factors (dSPM)...\n",
      "[done]\n",
      "Picked 305 channels from the data\n",
      "Computing inverse...\n",
      "(eigenleads need to be weighted)...\n",
      "combining the current components...\n",
      "(dSPM)...\n",
      "[done]\n",
      "Updating smoothing matrix, be patient..\n",
      "Smoothing matrix creation, step 1\n",
      "Smoothing matrix creation, step 2\n",
      "Smoothing matrix creation, step 3\n",
      "Smoothing matrix creation, step 4\n",
      "Smoothing matrix creation, step 5\n",
      "Smoothing matrix creation, step 6\n",
      "Smoothing matrix creation, step 7\n",
      "Smoothing matrix creation, step 8\n",
      "Smoothing matrix creation, step 9\n",
      "Smoothing matrix creation, step 10\n",
      "colormap: fmin=3.98e+00 fmid=4.63e+00 fmax=1.83e+01 transparent=1\n",
      "colormap: fmin=8.00e+00 fmid=1.20e+01 fmax=1.50e+01 transparent=1\n",
      "Morphing data...\n",
      "    Left-hemisphere map read.\n",
      "    Right-hemisphere map read.\n"
     ]
    },
    {
     "name": "stderr",
     "output_type": "stream",
     "text": [
      "C:\\Users\\fespinosa\\Anaconda3\\lib\\site-packages\\mayavi\\tools\\camera.py:288: FutureWarning: elementwise comparison failed; returning scalar instead, but in the future will perform elementwise comparison\n",
      "  if focalpoint is not None and not focalpoint == 'auto':\n"
     ]
    },
    {
     "name": "stdout",
     "output_type": "stream",
     "text": [
      "    17 smooth iterations done.\n",
      "    17 smooth iterations done.\n",
      "    14 smooth iterations done.\n",
      "    14 smooth iterations done.\n",
      "[done]\n",
      "Updating smoothing matrix, be patient..\n",
      "Smoothing matrix creation, step 1\n",
      "Smoothing matrix creation, step 2\n",
      "Smoothing matrix creation, step 3\n",
      "Smoothing matrix creation, step 4\n",
      "Smoothing matrix creation, step 5\n",
      "Smoothing matrix creation, step 6\n",
      "Smoothing matrix creation, step 7\n",
      "Smoothing matrix creation, step 8\n",
      "Smoothing matrix creation, step 9\n",
      "Smoothing matrix creation, step 10\n",
      "colormap: fmin=3.65e+00 fmid=4.25e+00 fmax=1.60e+01 transparent=1\n",
      "colormap: fmin=8.00e+00 fmid=1.20e+01 fmax=1.50e+01 transparent=1\n"
     ]
    },
    {
     "name": "stderr",
     "output_type": "stream",
     "text": [
      "C:\\Users\\fespinosa\\Anaconda3\\lib\\site-packages\\mayavi\\tools\\camera.py:288: FutureWarning: elementwise comparison failed; returning scalar instead, but in the future will perform elementwise comparison\n",
      "  if focalpoint is not None and not focalpoint == 'auto':\n"
     ]
    },
    {
     "data": {
      "text/plain": [
       "((-7.0167092985348768e-15, 90.0, 430.92617797851563, array([ 0.,  0.,  0.])),\n",
       " -90.0)"
      ]
     },
     "execution_count": 4,
     "metadata": {},
     "output_type": "execute_result"
    }
   ],
   "source": [
    "noise_cov = mne.compute_covariance(\n",
    "    epochs, tmax=0., method=['shrunk', 'empirical'])\n",
    "\n",
    "fname_fwd = data_path + '/MEG/sample/sample_audvis-meg-oct-6-fwd.fif'\n",
    "fwd = mne.read_forward_solution(fname_fwd, surf_ori=True)\n",
    "\n",
    "# Restrict forward solution as necessary for MEG\n",
    "fwd = mne.pick_types_forward(fwd, meg=True, eeg=False)\n",
    "\n",
    "# make an M/EEG, MEG-only, and EEG-only inverse operators\n",
    "info = evoked.info\n",
    "inverse_operator = make_inverse_operator(info, fwd, noise_cov,\n",
    "                                         loose=0.2, depth=0.8)\n",
    "\n",
    "write_inverse_operator('sample_audvis-meg-oct-6-inv.fif',\n",
    "                       inverse_operator)\n",
    "\n",
    "# Compute inverse solution\n",
    "\n",
    "method = \"dSPM\"\n",
    "snr = 3.\n",
    "lambda2 = 1. / snr ** 2\n",
    "stc = apply_inverse(evoked, inverse_operator, lambda2,\n",
    "                    method=method, pick_ori=None)\n",
    "\n",
    "\n",
    "# visualize\n",
    "\n",
    "subjects_dir = data_path + '/subjects'\n",
    "brain = stc.plot(surface='inflated', hemi='rh', subjects_dir=subjects_dir)\n",
    "brain.set_data_time_index(45)\n",
    "brain.scale_data_colormap(fmin=8, fmid=12, fmax=15, transparent=True)\n",
    "brain.show_view('lateral')\n",
    "\n",
    "# morph data to average brain\n",
    "stc_fsaverage = stc.morph(subject_to='fsaverage', subjects_dir=subjects_dir)\n",
    "\n",
    "brain_fsaverage = stc_fsaverage.plot(surface='inflated', hemi='rh',\n",
    "                                     subjects_dir=subjects_dir)\n",
    "brain_fsaverage.set_data_time_index(45)\n",
    "brain_fsaverage.scale_data_colormap(fmin=8, fmid=12, fmax=15, transparent=True)\n",
    "brain_fsaverage.show_view('lateral')"
   ]
  }
 ],
 "metadata": {
  "kernelspec": {
   "display_name": "Python 3",
   "language": "python",
   "name": "python3"
  },
  "language_info": {
   "codemirror_mode": {
    "name": "ipython",
    "version": 3
   },
   "file_extension": ".py",
   "mimetype": "text/x-python",
   "name": "python",
   "nbconvert_exporter": "python",
   "pygments_lexer": "ipython3",
   "version": "3.5.2"
  }
 },
 "nbformat": 4,
 "nbformat_minor": 0
}
